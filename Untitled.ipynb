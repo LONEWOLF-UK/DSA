{
 "cells": [
  {
   "cell_type": "markdown",
   "id": "f079932b",
   "metadata": {},
   "source": [
    "# Class"
   ]
  },
  {
   "cell_type": "code",
   "execution_count": null,
   "id": "25cc7f4e",
   "metadata": {},
   "outputs": [],
   "source": [
    "class employee:\n",
    "    def __init__(self, n, i):\n",
    "        self.name = n\n",
    "        self.id = i\n",
    "        \n",
    "    def display(self):\n",
    "        print(\"Name : \", self.name)\n",
    "        print(\"Id : \", self.id)\n",
    "\n",
    "e = employee('ABC', '123')\n",
    "e.display()"
   ]
  },
  {
   "cell_type": "markdown",
   "id": "b25407d3",
   "metadata": {},
   "source": [
    "# Raise Exception"
   ]
  },
  {
   "cell_type": "code",
   "execution_count": null,
   "id": "cc63f274",
   "metadata": {},
   "outputs": [],
   "source": [
    "class AdultException(Exception):\n",
    "    def __init__(self, msg):\n",
    "        self.msg = msg\n",
    "        \n",
    "    def print_exception(self):\n",
    "        print('User defined exception : ', self.msg)\n",
    "\n",
    "        \n",
    "class Person:\n",
    "    def __init__(self, name, age):\n",
    "        self.name = name\n",
    "        self.age = age\n",
    "        \n",
    "    def get_age(self):\n",
    "        if(self.age > 18):\n",
    "            print('Adult')\n",
    "        else:\n",
    "            try:\n",
    "                raise AdultException('Minor')\n",
    "            except AdultException as ae:\n",
    "                ae.print_exception()\n",
    "                \n",
    "    def display(self):\n",
    "        print('Name : ', self.name)\n",
    "        print('Age : ', self.age)\n",
    "\n",
    "        \n",
    "name = input('Enter Name : ')\n",
    "age = int(input('Enter Age : '))\n",
    "\n",
    "p = Person(name, age)\n",
    "p.get_age()\n",
    "p.display()"
   ]
  },
  {
   "cell_type": "code",
   "execution_count": 7,
   "id": "b8efed0d",
   "metadata": {},
   "outputs": [],
   "source": [
    "class check_num(Exception):\n",
    "    def __init__(self, msg):\n",
    "        self.msg = msg\n",
    "    \n",
    "    def print_exception(self):\n",
    "        print(\"User defined exception : \", self.msg)\n",
    "\n",
    "        \n",
    "def factorial(num):\n",
    "    if not isinstance(num, int) or num < 0:\n",
    "        try:\n",
    "            raise check_num('Invalid number')\n",
    "        except check_num as cn:\n",
    "            cn.print_exception()\n",
    "    else:\n",
    "        print(calculate(num))\n",
    "        \n",
    "\n",
    "def calculate(num):\n",
    "    if num == 0:\n",
    "            result = 1\n",
    "    else:\n",
    "        result = num * calculate(num - 1)\n",
    "    \n",
    "    return result"
   ]
  },
  {
   "cell_type": "markdown",
   "id": "cb5e8ca6",
   "metadata": {},
   "source": [
    "# Iterators"
   ]
  },
  {
   "cell_type": "code",
   "execution_count": null,
   "id": "621b9b09",
   "metadata": {},
   "outputs": [],
   "source": [
    "class RemoteControl():\n",
    "    def __init__(self):\n",
    "        self.channels = [\"HBO\",\"cnn\",\"abc\",\"espn\"]\n",
    "        self.index = -1\n",
    "\n",
    "    def __iter__(self):\n",
    "        return self\n",
    "\n",
    "    def __next__(self):\n",
    "        self.index += 1\n",
    "        if self.index == len(self.channels):\n",
    "            raise StopIteration\n",
    "\n",
    "        return self.channels[self.index]\n",
    "\n",
    "r = RemoteControl()\n",
    "itr = iter(r)\n",
    "print(next(itr))\n",
    "print(next(itr))\n",
    "print(next(itr))\n",
    "print(next(itr))"
   ]
  },
  {
   "cell_type": "code",
   "execution_count": 1,
   "id": "9323a947",
   "metadata": {},
   "outputs": [
    {
     "name": "stdout",
     "output_type": "stream",
     "text": [
      "1\n",
      "2\n",
      "3\n",
      "5\n"
     ]
    }
   ],
   "source": [
    "class Fibonacci:\n",
    "    def __init__(self, limit):\n",
    "        self.previous = 0\n",
    "        self.current = 1\n",
    "        self.n = 1\n",
    "        self.limit = limit\n",
    "\n",
    "    def __iter__(self):\n",
    "        return self\n",
    "\n",
    "    def __next__(self):\n",
    "        if self.n < self.limit:\n",
    "            result = self.previous + self.current\n",
    "            self.previous = self.current\n",
    "            self.current = result\n",
    "            self.n += 1\n",
    "            return result\n",
    "        else:\n",
    "            raise StopIteration\n",
    "\n",
    "            \n",
    "fib_iterator = iter(Fibonacci(5))\n",
    "while True:\n",
    "    try:\n",
    "        print(next(fib_iterator))\n",
    "    except StopIteration:\n",
    "        break"
   ]
  },
  {
   "cell_type": "markdown",
   "id": "ede07ee1",
   "metadata": {},
   "source": [
    "# Decorators "
   ]
  },
  {
   "cell_type": "code",
   "execution_count": null,
   "id": "011527ff",
   "metadata": {},
   "outputs": [],
   "source": [
    "import time\n",
    "\n",
    "def time_it(func):\n",
    "    def wrapper(*args, **kwargs):\n",
    "        start = time.time()\n",
    "        result = func(*args,**kwargs)\n",
    "        end = time.time()\n",
    "        print(func.__name__ +\" took \" + str((end-start)*1000) + \" mil sec\")\n",
    "        return result\n",
    "    return wrapper\n",
    "\n",
    "@time_it\n",
    "def calc_square(numbers):\n",
    "    result = []\n",
    "    for number in numbers:\n",
    "        result.append(number*number)\n",
    "    return result\n",
    "\n",
    "@time_it\n",
    "def calc_cube(numbers):\n",
    "    result = []\n",
    "    for number in numbers:\n",
    "        result.append(number*number*number)\n",
    "    return result\n",
    "\n",
    "array = range(1,100000)\n",
    "out_square = calc_square(array)\n",
    "out_cube = calc_cube(array)"
   ]
  },
  {
   "cell_type": "markdown",
   "id": "946faff5",
   "metadata": {},
   "source": [
    "# Multithreading"
   ]
  },
  {
   "cell_type": "code",
   "execution_count": 14,
   "id": "ecf8492c",
   "metadata": {
    "collapsed": true
   },
   "outputs": [
    {
     "name": "stdout",
     "output_type": "stream",
     "text": [
      "calculate square numbers\n",
      "calculate cube of numbers\n",
      "cube:square: 4\n",
      " 8\n",
      "square:cube: 27\n",
      " 9\n",
      "cube:square: 64\n",
      " 512\n",
      "cube:square: 81\n",
      " 729\n",
      "done in :  4.019160032272339\n"
     ]
    }
   ],
   "source": [
    "import time\n",
    "import threading\n",
    "\n",
    "def calc_square(numbers):\n",
    "    print(\"calculate square numbers\")\n",
    "    for n in numbers:\n",
    "        time.sleep(1)\n",
    "        print('square : ',n*n)\n",
    "\n",
    "def calc_cube(numbers):\n",
    "    print(\"calculate cube of numbers\")\n",
    "    for n in numbers:\n",
    "        time.sleep(1)\n",
    "        print('cube : ',n*n*n)\n",
    "\n",
    "arr = [2,3,8,9]\n",
    "\n",
    "t = time.time()\n",
    "\n",
    "t1= threading.Thread(target=calc_square, args=(arr,))\n",
    "t2= threading.Thread(target=calc_cube, args=(arr,))\n",
    "\n",
    "t1.start()\n",
    "t2.start()\n",
    "\n",
    "t1.join()\n",
    "t2.join()\n",
    "\n",
    "print(\"done in : \",time.time()-t)"
   ]
  },
  {
   "cell_type": "code",
   "execution_count": null,
   "id": "57b81bd9",
   "metadata": {},
   "outputs": [],
   "source": []
  }
 ],
 "metadata": {
  "kernelspec": {
   "display_name": "Python 3 (ipykernel)",
   "language": "python",
   "name": "python3"
  },
  "language_info": {
   "codemirror_mode": {
    "name": "ipython",
    "version": 3
   },
   "file_extension": ".py",
   "mimetype": "text/x-python",
   "name": "python",
   "nbconvert_exporter": "python",
   "pygments_lexer": "ipython3",
   "version": "3.10.5"
  }
 },
 "nbformat": 4,
 "nbformat_minor": 5
}
