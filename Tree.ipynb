{
 "cells": [
  {
   "cell_type": "code",
   "execution_count": 162,
   "id": "6f12d16b",
   "metadata": {},
   "outputs": [],
   "source": [
    "class Tree:\n",
    "    def __init__(self, data):\n",
    "        self.data = data\n",
    "        self.children = []\n",
    "        self.parent = None\n",
    "    \n",
    "    def add_child(self, child):\n",
    "        child.parent = self\n",
    "        self.children.append(child)\n",
    "        \n",
    "    def print_tree(self):\n",
    "        spaces = ' ' * self.get_level() * 5\n",
    "        print(spaces + self.data)\n",
    "        if self.children:\n",
    "            for child in self.children:\n",
    "                child.print_tree()\n",
    "    \n",
    "    def get_level(self):\n",
    "        level = 0\n",
    "        p = self.parent\n",
    "        while p:\n",
    "            level += 1\n",
    "            p = p.parent\n",
    "            \n",
    "        return level"
   ]
  },
  {
   "cell_type": "code",
   "execution_count": 165,
   "id": "a2389a97",
   "metadata": {},
   "outputs": [],
   "source": [
    "def build_tree():\n",
    "    root = Tree('Electronics')\n",
    "\n",
    "    laptop = Tree('Laptop')\n",
    "    laptop.add_child(Tree('Mac'))\n",
    "    laptop.add_child(Tree('Dell'))\n",
    "    laptop.add_child(Tree('HP'))\n",
    "\n",
    "    mobile = Tree('Mobile')\n",
    "    mobile.add_child(Tree('Iphone'))\n",
    "    mobile.add_child(Tree('OnePlus'))\n",
    "    mobile.add_child(Tree('Samsung'))\n",
    "\n",
    "    root.add_child(laptop)\n",
    "    root.add_child(mobile)\n",
    "    \n",
    "    root.print_tree()"
   ]
  },
  {
   "cell_type": "code",
   "execution_count": 166,
   "id": "5b8a1399",
   "metadata": {},
   "outputs": [
    {
     "name": "stdout",
     "output_type": "stream",
     "text": [
      "Electronics\n",
      "     Laptop\n",
      "          Mac\n",
      "          Dell\n",
      "          HP\n",
      "     Mobile\n",
      "          Iphone\n",
      "          OnePlus\n",
      "          Samsung\n"
     ]
    }
   ],
   "source": [
    "build_tree()"
   ]
  },
  {
   "cell_type": "code",
   "execution_count": null,
   "id": "15df1dce",
   "metadata": {},
   "outputs": [],
   "source": []
  }
 ],
 "metadata": {
  "kernelspec": {
   "display_name": "Python 3 (ipykernel)",
   "language": "python",
   "name": "python3"
  },
  "language_info": {
   "codemirror_mode": {
    "name": "ipython",
    "version": 3
   },
   "file_extension": ".py",
   "mimetype": "text/x-python",
   "name": "python",
   "nbconvert_exporter": "python",
   "pygments_lexer": "ipython3",
   "version": "3.10.5"
  }
 },
 "nbformat": 4,
 "nbformat_minor": 5
}
