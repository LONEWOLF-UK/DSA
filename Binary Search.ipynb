{
 "cells": [
  {
   "cell_type": "code",
   "execution_count": 29,
   "id": "a2bba842",
   "metadata": {},
   "outputs": [],
   "source": [
    "def binary_search(value, list):\n",
    "    left_index = 0 \n",
    "    right_index = len(list) - 1\n",
    "    \n",
    "    while left_index <= right_index:\n",
    "        mid_index = (left_index + right_index) // 2\n",
    "        \n",
    "        if list[mid_index] == value:\n",
    "            print('Value in index ', mid_index)\n",
    "            return\n",
    "\n",
    "        if list[mid_index] < value:\n",
    "            left_index = mid_index + 1\n",
    " \n",
    "        if list[mid_index] > value:\n",
    "            right_index = mid_index - 1\n",
    "        \n",
    "    print('Value not in list') "
   ]
  },
  {
   "cell_type": "code",
   "execution_count": 30,
   "id": "b0efeb7f",
   "metadata": {},
   "outputs": [
    {
     "name": "stdout",
     "output_type": "stream",
     "text": [
      "Value in index  5\n"
     ]
    }
   ],
   "source": [
    "list = [1, 2, 3, 4 , 5, 6, 7, 8, 9]\n",
    "binary_search(6, list) "
   ]
  },
  {
   "cell_type": "code",
   "execution_count": null,
   "id": "80a8d5c1",
   "metadata": {},
   "outputs": [],
   "source": []
  }
 ],
 "metadata": {
  "kernelspec": {
   "display_name": "Python 3 (ipykernel)",
   "language": "python",
   "name": "python3"
  },
  "language_info": {
   "codemirror_mode": {
    "name": "ipython",
    "version": 3
   },
   "file_extension": ".py",
   "mimetype": "text/x-python",
   "name": "python",
   "nbconvert_exporter": "python",
   "pygments_lexer": "ipython3",
   "version": "3.10.5"
  }
 },
 "nbformat": 4,
 "nbformat_minor": 5
}
