{
 "cells": [
  {
   "cell_type": "code",
   "execution_count": 1,
   "id": "f17d882b",
   "metadata": {},
   "outputs": [],
   "source": [
    "def quick_sort(list, start, end):\n",
    "    if start < end:\n",
    "        pi = partition(list, start, end)\n",
    "        quick_sort(list, start, pi-1)\n",
    "        quick_sort(list, pi+1, end)\n",
    "    \n",
    "    return list\n",
    "\n",
    "\n",
    "def partition(list, start, end):\n",
    "    pivot = start\n",
    "    while start < end:\n",
    "        while start < len(list) and list[start] <= list[pivot]:\n",
    "            start += 1\n",
    "            \n",
    "        while end >= 0 and list[end] >= list[pivot]:\n",
    "            end -= 1\n",
    "\n",
    "        if start <= end:\n",
    "            swap(start, end, list)\n",
    "    \n",
    "    swap(pivot, end, list)\n",
    "    return end\n",
    "    \n",
    "    \n",
    "def swap(a, b, list):\n",
    "    temp = list[a]\n",
    "    list[a] = list[b]\n",
    "    list[b] = temp\n",
    "\n",
    "\n",
    "def sort(list):\n",
    "    a = quick_sort(list, 0, len(list) - 1)\n",
    "    print(a)"
   ]
  },
  {
   "cell_type": "code",
   "execution_count": 2,
   "id": "eae01b04",
   "metadata": {
    "scrolled": true
   },
   "outputs": [
    {
     "name": "stdout",
     "output_type": "stream",
     "text": [
      "[2, 7, 9, 11, 15, 28, 29]\n"
     ]
    }
   ],
   "source": [
    "elements = [11, 9, 29, 7, 2, 15, 28]\n",
    "sort(elements)"
   ]
  },
  {
   "cell_type": "code",
   "execution_count": null,
   "id": "7afe5c46",
   "metadata": {},
   "outputs": [],
   "source": []
  }
 ],
 "metadata": {
  "kernelspec": {
   "display_name": "Python 3 (ipykernel)",
   "language": "python",
   "name": "python3"
  },
  "language_info": {
   "codemirror_mode": {
    "name": "ipython",
    "version": 3
   },
   "file_extension": ".py",
   "mimetype": "text/x-python",
   "name": "python",
   "nbconvert_exporter": "python",
   "pygments_lexer": "ipython3",
   "version": "3.10.5"
  }
 },
 "nbformat": 4,
 "nbformat_minor": 5
}
