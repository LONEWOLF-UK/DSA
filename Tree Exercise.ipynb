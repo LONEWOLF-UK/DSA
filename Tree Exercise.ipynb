{
 "cells": [
  {
   "cell_type": "code",
   "execution_count": 1,
   "id": "15df1dce",
   "metadata": {},
   "outputs": [],
   "source": [
    "class TreeNode:\n",
    "    def __init__(self, name, designation):\n",
    "        self.data = (name, designation)\n",
    "        self.parent = None\n",
    "        self.children = []\n",
    "    \n",
    "    \n",
    "    def add_child(self, child):\n",
    "        child.parent = self\n",
    "        self.children.append(child)\n",
    "    \n",
    "    \n",
    "    def print_tree(self, entry):\n",
    "        spaces = ' ' * self.get_level() * 5\n",
    "        \n",
    "        if entry == 'name':\n",
    "            print(spaces + self.data[0])\n",
    "            if self.children:\n",
    "                for child in self.children:\n",
    "                    child.print_tree(entry)\n",
    "            return\n",
    "        \n",
    "        if entry == 'designation':\n",
    "            print(spaces + self.data[1])\n",
    "            if self.children:\n",
    "                for child in self.children:\n",
    "                    child.print_tree(entry)\n",
    "            return\n",
    "        \n",
    "        if entry == 'both':\n",
    "            print(spaces + self.data[0] + ' (' + self.data[1] + ') ')\n",
    "            if self.children:\n",
    "                for child in self.children:\n",
    "                    child.print_tree(entry)\n",
    "            return\n",
    "    \n",
    "    \n",
    "    def print_upto_level(self, value):   \n",
    "        \n",
    "        if value < 0 or value > t.max_level():\n",
    "            raise Exception ('Invalid level')\n",
    "            return\n",
    "        \n",
    "        spaces = ' ' * self.get_level() * 5\n",
    "        print(spaces + self.data[0] + ' (' + self.data[1] + ') ' )\n",
    "        if self.get_level() != value:\n",
    "            if self.children:\n",
    "                for child in self.children:\n",
    "                    child.print_upto_level(value)\n",
    "    \n",
    "    \n",
    "    def get_level(self):\n",
    "        level = 0\n",
    "        p = self\n",
    "        while p.parent:\n",
    "            level += 1\n",
    "            p = p.parent\n",
    "        return level\n",
    "    \n",
    "    def max_level(self):\n",
    "        level = 0\n",
    "        p = self\n",
    "        while p.children:\n",
    "            level += 1\n",
    "            p = p.children[0]\n",
    "            \n",
    "        return level"
   ]
  },
  {
   "cell_type": "code",
   "execution_count": 2,
   "id": "3c8141e7",
   "metadata": {},
   "outputs": [],
   "source": [
    "t = TreeNode('ABC', 'Chairman')\n",
    "\n",
    "t1  = TreeNode('DEF', 'CEO')\n",
    "\n",
    "t1.add_child(TreeNode('GHI', 'Secretary'))\n",
    "t1.add_child(TreeNode('JKL', 'Supply Head'))\n",
    "\n",
    "t2  = TreeNode('MNO', 'CFO')\n",
    "\n",
    "t2.add_child(TreeNode('PQR', 'Secretary'))\n",
    "t2.add_child(TreeNode('STU', 'Finance Head'))\n",
    "\n",
    "t.add_child(t1)\n",
    "t.add_child(t2)"
   ]
  },
  {
   "cell_type": "code",
   "execution_count": 3,
   "id": "4770312f",
   "metadata": {},
   "outputs": [
    {
     "name": "stdout",
     "output_type": "stream",
     "text": [
      "ABC (Chairman) \n",
      "     DEF (CEO) \n",
      "          GHI (Secretary) \n",
      "          JKL (Supply Head) \n",
      "     MNO (CFO) \n",
      "          PQR (Secretary) \n",
      "          STU (Finance Head) \n"
     ]
    }
   ],
   "source": [
    "t.print_tree('both')"
   ]
  },
  {
   "cell_type": "code",
   "execution_count": 4,
   "id": "9c35cdb3",
   "metadata": {},
   "outputs": [
    {
     "name": "stdout",
     "output_type": "stream",
     "text": [
      "ABC (Chairman) \n",
      "     DEF (CEO) \n",
      "          GHI (Secretary) \n",
      "          JKL (Supply Head) \n",
      "     MNO (CFO) \n",
      "          PQR (Secretary) \n",
      "          STU (Finance Head) \n"
     ]
    }
   ],
   "source": [
    "t.print_upto_level(2)"
   ]
  },
  {
   "cell_type": "code",
   "execution_count": null,
   "id": "e7b171d5",
   "metadata": {},
   "outputs": [],
   "source": []
  }
 ],
 "metadata": {
  "kernelspec": {
   "display_name": "Python 3 (ipykernel)",
   "language": "python",
   "name": "python3"
  },
  "language_info": {
   "codemirror_mode": {
    "name": "ipython",
    "version": 3
   },
   "file_extension": ".py",
   "mimetype": "text/x-python",
   "name": "python",
   "nbconvert_exporter": "python",
   "pygments_lexer": "ipython3",
   "version": "3.10.5"
  }
 },
 "nbformat": 4,
 "nbformat_minor": 5
}
