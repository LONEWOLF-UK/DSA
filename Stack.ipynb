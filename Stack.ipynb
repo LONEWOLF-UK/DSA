{
 "cells": [
  {
   "cell_type": "code",
   "execution_count": 72,
   "id": "c0c1bef0",
   "metadata": {},
   "outputs": [],
   "source": [
    "from collections import deque"
   ]
  },
  {
   "cell_type": "code",
   "execution_count": 73,
   "id": "6102a20a",
   "metadata": {},
   "outputs": [],
   "source": [
    "class Stack:\n",
    "    def __init__(self):\n",
    "        self.arr = deque()\n",
    "    \n",
    "    def push(self, data):\n",
    "        self.arr.append(data)\n",
    "    \n",
    "    def pop(self):\n",
    "        return self.arr.pop()\n",
    "    \n",
    "    def size(self):\n",
    "        return len(self.arr)"
   ]
  },
  {
   "cell_type": "code",
   "execution_count": 74,
   "id": "b2f7189d",
   "metadata": {},
   "outputs": [],
   "source": [
    "def reverse_string(text):\n",
    "    s = Stack()\n",
    "    rev = ''\n",
    "    for char in text:\n",
    "        s.push(char)\n",
    "    \n",
    "    while len(s.arr) != 0:\n",
    "        a = s.pop()\n",
    "        rev += a\n",
    "    \n",
    "    return rev"
   ]
  },
  {
   "cell_type": "code",
   "execution_count": 75,
   "id": "dd8a8373",
   "metadata": {},
   "outputs": [
    {
     "name": "stdout",
     "output_type": "stream",
     "text": [
      "91-DIVOC ereuqnoc lliw eW\n"
     ]
    }
   ],
   "source": [
    "line = \"We will conquere COVID-19\"\n",
    "b = reverse_string(line)\n",
    "print(b)"
   ]
  },
  {
   "cell_type": "code",
   "execution_count": 76,
   "id": "eeb47453",
   "metadata": {},
   "outputs": [
    {
     "name": "stdout",
     "output_type": "stream",
     "text": [
      "True\n"
     ]
    }
   ],
   "source": [
    "def is_match(ch1, ch2):\n",
    "    match_dict = {\n",
    "        ')': '(',\n",
    "        ']': '[',\n",
    "        '}': '{'\n",
    "    }\n",
    "    return match_dict[ch1] == ch2\n",
    "\n",
    "\n",
    "def is_balanced(s):\n",
    "    stack = Stack()\n",
    "    for ch in s:\n",
    "        if ch=='(' or ch=='{' or ch == '[':\n",
    "            stack.push(ch)\n",
    "        if ch==')' or ch=='}' or ch == ']':\n",
    "            if stack.size()==0:\n",
    "                return False\n",
    "            if not is_match(ch,stack.pop()):\n",
    "                return False\n",
    "\n",
    "    return stack.size()==0\n",
    "\n",
    "print(is_balanced(\"({a+b})\"))"
   ]
  }
 ],
 "metadata": {
  "kernelspec": {
   "display_name": "Python 3 (ipykernel)",
   "language": "python",
   "name": "python3"
  },
  "language_info": {
   "codemirror_mode": {
    "name": "ipython",
    "version": 3
   },
   "file_extension": ".py",
   "mimetype": "text/x-python",
   "name": "python",
   "nbconvert_exporter": "python",
   "pygments_lexer": "ipython3",
   "version": "3.10.5"
  }
 },
 "nbformat": 4,
 "nbformat_minor": 5
}
