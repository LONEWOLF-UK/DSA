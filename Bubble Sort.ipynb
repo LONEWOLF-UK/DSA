{
 "cells": [
  {
   "cell_type": "code",
   "execution_count": 50,
   "id": "67683e04",
   "metadata": {},
   "outputs": [],
   "source": [
    "def bubble_sort1(list):\n",
    "    length = len(list)\n",
    "    \n",
    "    for i in range(length - 1):\n",
    "        swapped = False\n",
    "        for j in range(length - 1 - i):\n",
    "            if list[j] > list[j + 1]:\n",
    "                temp = list[j]\n",
    "                list[j] = list[j + 1]\n",
    "                list[j + 1] = temp\n",
    "                swapped = True\n",
    "        if swapped == False:\n",
    "            break\n",
    "            \n",
    "    return list"
   ]
  },
  {
   "cell_type": "code",
   "execution_count": 51,
   "id": "0ed7afcc",
   "metadata": {},
   "outputs": [
    {
     "data": {
      "text/plain": [
       "[1, 2, 5, 8, 10, 12]"
      ]
     },
     "execution_count": 51,
     "metadata": {},
     "output_type": "execute_result"
    }
   ],
   "source": [
    "elements = [10, 5, 8, 12, 2, 1]\n",
    "bubble_sort1(elements)"
   ]
  },
  {
   "cell_type": "code",
   "execution_count": 52,
   "id": "40b3d2a5",
   "metadata": {},
   "outputs": [],
   "source": [
    "def bubble_sort2(list, key):\n",
    "    length = len(list)\n",
    "    \n",
    "    for i in range(length - 1):\n",
    "        swapped = False\n",
    "        for j in range(length - 1 - i):\n",
    "            if list[j][key] > list[j + 1][key]:\n",
    "                temp = list[j]\n",
    "                list[j] = list[j + 1]\n",
    "                list[j + 1] = temp\n",
    "                swapped = True\n",
    "        if swapped == False:\n",
    "            break\n",
    "            \n",
    "    return list"
   ]
  },
  {
   "cell_type": "code",
   "execution_count": 53,
   "id": "5c312e96",
   "metadata": {},
   "outputs": [
    {
     "data": {
      "text/plain": [
       "[{'name': 'kathy', 'transaction_amount': 200, 'device': 'vivo'},\n",
       " {'name': 'dhaval', 'transaction_amount': 400, 'device': 'google pixel'},\n",
       " {'name': 'aamir', 'transaction_amount': 800, 'device': 'iphone-8'},\n",
       " {'name': 'mona', 'transaction_amount': 1000, 'device': 'iphone-10'}]"
      ]
     },
     "execution_count": 53,
     "metadata": {},
     "output_type": "execute_result"
    }
   ],
   "source": [
    "entry = [\n",
    "        {'name': 'mona', 'transaction_amount': 1000, 'device': 'iphone-10'},\n",
    "        {'name': 'dhaval', 'transaction_amount': 400, 'device': 'google pixel'},\n",
    "        {'name': 'kathy', 'transaction_amount': 200, 'device': 'vivo'},\n",
    "        {'name': 'aamir', 'transaction_amount': 800, 'device': 'iphone-8'}\n",
    "    ]\n",
    "\n",
    "bubble_sort2(entry, 'transaction_amount')"
   ]
  },
  {
   "cell_type": "code",
   "execution_count": null,
   "id": "cfe4f452",
   "metadata": {},
   "outputs": [],
   "source": []
  }
 ],
 "metadata": {
  "kernelspec": {
   "display_name": "Python 3 (ipykernel)",
   "language": "python",
   "name": "python3"
  },
  "language_info": {
   "codemirror_mode": {
    "name": "ipython",
    "version": 3
   },
   "file_extension": ".py",
   "mimetype": "text/x-python",
   "name": "python",
   "nbconvert_exporter": "python",
   "pygments_lexer": "ipython3",
   "version": "3.10.5"
  }
 },
 "nbformat": 4,
 "nbformat_minor": 5
}
