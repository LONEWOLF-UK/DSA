{
 "cells": [
  {
   "cell_type": "code",
   "execution_count": 14,
   "id": "37cdffea",
   "metadata": {},
   "outputs": [],
   "source": [
    "class Binary_TreeNode:\n",
    "    def __init__(self, data):\n",
    "        self.data = data\n",
    "        self.left = None\n",
    "        self.right = None\n",
    "        \n",
    "\n",
    "    def add_child(self, data):\n",
    "        if data == self.data:\n",
    "            return # node already exist\n",
    "\n",
    "        if data < self.data:\n",
    "            if self.left:\n",
    "                self.left.add_child(data)\n",
    "            else:\n",
    "                self.left = Binary_TreeNode(data)\n",
    "        else:\n",
    "            if self.right:\n",
    "                self.right.add_child(data)\n",
    "            else:\n",
    "                self.right = Binary_TreeNode(data)\n",
    "                \n",
    "    \n",
    "    def search(self, value):\n",
    "        if value == self.data:\n",
    "            print(True)\n",
    "        \n",
    "        if value < self.data:\n",
    "            if self.left:\n",
    "                self.left.search(value)\n",
    "            else:\n",
    "                print(False)\n",
    "        \n",
    "        if value > self.data:\n",
    "            if self.right:\n",
    "                self.right.search(value)\n",
    "            else:\n",
    "                print(False)\n",
    "        \n",
    "                \n",
    "    def in_order_traversal(self):\n",
    "        elements = []\n",
    "        if self.left:\n",
    "            elements += self.left.in_order_traversal()\n",
    "\n",
    "        elements.append(self.data)\n",
    "\n",
    "        if self.right:\n",
    "            elements += self.right.in_order_traversal()\n",
    "\n",
    "        return elements\n",
    "    \n",
    "    \n",
    "    def post_order_traversal(self):\n",
    "        elements = []\n",
    "        if self.left:\n",
    "            elements += self.left.post_order_traversal()\n",
    "        if self.right:\n",
    "            elements += self.right.post_order_traversal()\n",
    "\n",
    "        elements.append(self.data)\n",
    "\n",
    "        return elements\n",
    "    \n",
    "\n",
    "    def pre_order_traversal(self):\n",
    "        elements = [self.data]\n",
    "        if self.left:\n",
    "            elements += self.left.pre_order_traversal()\n",
    "        if self.right:\n",
    "            elements += self.right.pre_order_traversal()\n",
    "\n",
    "        return elements\n",
    "    \n",
    "    \n",
    "    def find_max(self):\n",
    "        if self.right is None:\n",
    "            return self.data\n",
    "        return self.right.find_max()\n",
    "    \n",
    "\n",
    "    def find_min(self):\n",
    "        if self.left is None:\n",
    "            return self.data\n",
    "        return self.left.find_min()\n",
    "    \n",
    "    \n",
    "    def delete(self, val):\n",
    "        if val < self.data:\n",
    "            if self.left:\n",
    "                self.left = self.left.delete(val)\n",
    "        elif val > self.data:\n",
    "            if self.right:\n",
    "                self.right = self.right.delete(val)\n",
    "        else:\n",
    "            if self.left is None and self.right is None:\n",
    "                return None\n",
    "            elif self.left is None:\n",
    "                return self.right\n",
    "            elif self.right is None:\n",
    "                return self.left\n",
    "\n",
    "            min_val = self.right.find_min()\n",
    "            self.data = min_val\n",
    "            self.right = self.right.delete(min_val)\n",
    "        \n",
    "        return self"
   ]
  },
  {
   "cell_type": "code",
   "execution_count": 15,
   "id": "a5c4de23",
   "metadata": {},
   "outputs": [
    {
     "name": "stdout",
     "output_type": "stream",
     "text": [
      "[1, 4, 9, 17, 18, 20, 23, 34]\n",
      "[17, 4, 1, 9, 20, 18, 23, 34]\n",
      "[1, 9, 4, 18, 34, 23, 20, 17]\n"
     ]
    }
   ],
   "source": [
    "element = [17, 4, 1, 20, 9, 23, 18, 34]\n",
    "root = Binary_TreeNode(element[0])\n",
    "\n",
    "for i in range(1, len(element)):\n",
    "    root.add_child(element[i])    \n",
    "\n",
    "print(root.in_order_traversal())\n",
    "print(root.pre_order_traversal())\n",
    "print(root.post_order_traversal())"
   ]
  },
  {
   "cell_type": "code",
   "execution_count": 16,
   "id": "635f624a",
   "metadata": {},
   "outputs": [
    {
     "data": {
      "text/plain": [
       "<__main__.Binary_TreeNode at 0x24b49674250>"
      ]
     },
     "execution_count": 16,
     "metadata": {},
     "output_type": "execute_result"
    }
   ],
   "source": [
    "root.delete(20)"
   ]
  },
  {
   "cell_type": "code",
   "execution_count": 17,
   "id": "de729622",
   "metadata": {},
   "outputs": [
    {
     "name": "stdout",
     "output_type": "stream",
     "text": [
      "[1, 4, 9, 17, 18, 23, 34]\n",
      "[17, 4, 1, 9, 23, 18, 34]\n",
      "[1, 9, 4, 18, 34, 23, 17]\n"
     ]
    }
   ],
   "source": [
    "print(root.in_order_traversal())\n",
    "print(root.pre_order_traversal())\n",
    "print(root.post_order_traversal())"
   ]
  },
  {
   "cell_type": "code",
   "execution_count": null,
   "id": "0b44931c",
   "metadata": {},
   "outputs": [],
   "source": []
  }
 ],
 "metadata": {
  "kernelspec": {
   "display_name": "Python 3 (ipykernel)",
   "language": "python",
   "name": "python3"
  },
  "language_info": {
   "codemirror_mode": {
    "name": "ipython",
    "version": 3
   },
   "file_extension": ".py",
   "mimetype": "text/x-python",
   "name": "python",
   "nbconvert_exporter": "python",
   "pygments_lexer": "ipython3",
   "version": "3.10.5"
  }
 },
 "nbformat": 4,
 "nbformat_minor": 5
}
