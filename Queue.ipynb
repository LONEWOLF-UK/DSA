{
 "cells": [
  {
   "cell_type": "code",
   "execution_count": 1,
   "id": "01c45018",
   "metadata": {},
   "outputs": [],
   "source": [
    "from collections import deque\n",
    "import time\n",
    "import threading"
   ]
  },
  {
   "cell_type": "code",
   "execution_count": 2,
   "id": "2f71f381",
   "metadata": {},
   "outputs": [],
   "source": [
    "class queue:\n",
    "    def __init__(self):\n",
    "        self.arr = deque()\n",
    "    \n",
    "    def place_order(self, list):\n",
    "        for order in list:\n",
    "            self.arr.appendleft(order)\n",
    "            time.sleep(0.5)\n",
    "            print(order + ' ordered ')\n",
    "    \n",
    "    def serve_order(self):\n",
    "        time.sleep(1)\n",
    "        while len(self.arr) != 0:\n",
    "            print(self.arr.pop() + ' served ')\n",
    "            time.sleep(2)"
   ]
  },
  {
   "cell_type": "code",
   "execution_count": 3,
   "id": "867fd641",
   "metadata": {},
   "outputs": [],
   "source": [
    "q = queue()\n",
    "orders = ['pizza','samosa','pasta','biryani','burger']"
   ]
  },
  {
   "cell_type": "code",
   "execution_count": 4,
   "id": "2115d4f8",
   "metadata": {},
   "outputs": [
    {
     "name": "stdout",
     "output_type": "stream",
     "text": [
      "pizza ordered \n",
      "pizza served \n",
      "samosa ordered \n",
      "pasta ordered \n",
      "biryani ordered \n",
      "burger ordered \n",
      "samosa served \n",
      "pasta served \n",
      "biryani served \n",
      "burger served \n"
     ]
    }
   ],
   "source": [
    "t1= threading.Thread(target = q.place_order, args=(orders,))\n",
    "t2= threading.Thread(target  = q.serve_order)\n",
    "\n",
    "t1.start()\n",
    "t2.start()\n",
    "\n",
    "t1.join()\n",
    "t2.join()"
   ]
  },
  {
   "cell_type": "code",
   "execution_count": null,
   "id": "f34d581d",
   "metadata": {},
   "outputs": [],
   "source": []
  }
 ],
 "metadata": {
  "kernelspec": {
   "display_name": "Python 3 (ipykernel)",
   "language": "python",
   "name": "python3"
  },
  "language_info": {
   "codemirror_mode": {
    "name": "ipython",
    "version": 3
   },
   "file_extension": ".py",
   "mimetype": "text/x-python",
   "name": "python",
   "nbconvert_exporter": "python",
   "pygments_lexer": "ipython3",
   "version": "3.10.5"
  }
 },
 "nbformat": 4,
 "nbformat_minor": 5
}
