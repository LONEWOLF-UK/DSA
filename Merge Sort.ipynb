{
 "cells": [
  {
   "cell_type": "code",
   "execution_count": 45,
   "id": "46c5716f",
   "metadata": {},
   "outputs": [],
   "source": [
    "def merge_sort(list):\n",
    "    if len(list) <= 1:\n",
    "        return list\n",
    "    \n",
    "    mid = len(list) // 2\n",
    "    left = list[: mid]\n",
    "    right = list[mid :]\n",
    "    \n",
    "    left = merge_sort(left)\n",
    "    right = merge_sort(right)\n",
    "    \n",
    "    return merge_two_sorted_list(left, right)\n",
    "    \n",
    "    \n",
    "def merge_two_sorted_list(a, b):\n",
    "    sorted_list = []\n",
    "    len_a = len(a)\n",
    "    len_b = len(b)\n",
    "    i = j = 0\n",
    "    while i < len_a and j < len_b:\n",
    "        if a[i] < b[j]:\n",
    "            sorted_list.append(a[i])\n",
    "            i += 1\n",
    "        else:\n",
    "            sorted_list.append(b[j])\n",
    "            j += 1\n",
    "    while i < len(a):\n",
    "        sorted_list.append(a[i])\n",
    "        i += 1\n",
    "    while j < len(b):\n",
    "        sorted_list.append(b[j])\n",
    "        j += 1\n",
    "        \n",
    "    #print(sorted_list)\n",
    "    return sorted_list"
   ]
  },
  {
   "cell_type": "code",
   "execution_count": 46,
   "id": "c22e3b87",
   "metadata": {},
   "outputs": [
    {
     "data": {
      "text/plain": [
       "[1, 2, 3, 4, 5, 6, 9, 10]"
      ]
     },
     "execution_count": 46,
     "metadata": {},
     "output_type": "execute_result"
    }
   ],
   "source": [
    "a = [1, 2, 5, 10]\n",
    "b = [3, 4, 6, 9]\n",
    "merge_two_sorted_list(a, b)"
   ]
  },
  {
   "cell_type": "code",
   "execution_count": 47,
   "id": "140de462",
   "metadata": {},
   "outputs": [
    {
     "data": {
      "text/plain": [
       "[3, 7, 8, 10, 15, 23, 29, 98]"
      ]
     },
     "execution_count": 47,
     "metadata": {},
     "output_type": "execute_result"
    }
   ],
   "source": [
    "list = [10, 3, 15, 7, 8, 23, 98, 29]\n",
    "merge_sort(list)"
   ]
  },
  {
   "cell_type": "code",
   "execution_count": null,
   "id": "786de20b",
   "metadata": {},
   "outputs": [],
   "source": []
  }
 ],
 "metadata": {
  "kernelspec": {
   "display_name": "Python 3 (ipykernel)",
   "language": "python",
   "name": "python3"
  },
  "language_info": {
   "codemirror_mode": {
    "name": "ipython",
    "version": 3
   },
   "file_extension": ".py",
   "mimetype": "text/x-python",
   "name": "python",
   "nbconvert_exporter": "python",
   "pygments_lexer": "ipython3",
   "version": "3.10.5"
  }
 },
 "nbformat": 4,
 "nbformat_minor": 5
}
