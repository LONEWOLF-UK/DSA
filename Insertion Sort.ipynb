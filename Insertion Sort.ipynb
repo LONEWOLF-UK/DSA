{
 "cells": [
  {
   "cell_type": "code",
   "execution_count": 25,
   "id": "79df276c",
   "metadata": {},
   "outputs": [],
   "source": [
    "def insertion_sort(elements):\n",
    "    for i in range(1, len(elements)):\n",
    "        anchor = elements[i]\n",
    "        j = i - 1\n",
    "        while j>=0 and anchor < elements[j]:\n",
    "            elements[j+1] = elements[j]\n",
    "            j = j - 1\n",
    "        elements[j+1] = anchor"
   ]
  },
  {
   "cell_type": "code",
   "execution_count": 26,
   "id": "b3c15fc2",
   "metadata": {},
   "outputs": [
    {
     "name": "stdout",
     "output_type": "stream",
     "text": [
      "[2, 7, 9, 11, 15, 28, 29]\n"
     ]
    }
   ],
   "source": [
    "elements = [11,9,29,7,2,15,28]\n",
    "insertion_sort(elements)\n",
    "print(elements)"
   ]
  },
  {
   "cell_type": "code",
   "execution_count": null,
   "id": "39aeee72",
   "metadata": {},
   "outputs": [],
   "source": []
  }
 ],
 "metadata": {
  "kernelspec": {
   "display_name": "Python 3 (ipykernel)",
   "language": "python",
   "name": "python3"
  },
  "language_info": {
   "codemirror_mode": {
    "name": "ipython",
    "version": 3
   },
   "file_extension": ".py",
   "mimetype": "text/x-python",
   "name": "python",
   "nbconvert_exporter": "python",
   "pygments_lexer": "ipython3",
   "version": "3.10.5"
  }
 },
 "nbformat": 4,
 "nbformat_minor": 5
}
